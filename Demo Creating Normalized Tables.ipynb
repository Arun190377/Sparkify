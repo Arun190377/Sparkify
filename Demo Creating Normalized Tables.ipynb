{
 "cells": [
  {
   "cell_type": "code",
   "execution_count": 1,
   "metadata": {},
   "outputs": [],
   "source": [
    "import psycopg2"
   ]
  },
  {
   "cell_type": "code",
   "execution_count": 6,
   "metadata": {},
   "outputs": [],
   "source": [
    "try:\n",
    "    conn = psycopg2.connect(\"dbname=udacity user=student password=student\")\n",
    "except psycopg2.Error as e:\n",
    "    print(\"Error: Could not make connection to the Postgres Database\")\n",
    "    print(e)\n",
    "try:\n",
    "    cur=conn.cursor()\n",
    "except psycopg2.Error as e:\n",
    "    print(\"Error: Could not get cursor to the database\")\n",
    "    print(e)\n",
    "conn.set_session(autocommit=True)"
   ]
  },
  {
   "cell_type": "code",
   "execution_count": 23,
   "metadata": {},
   "outputs": [],
   "source": [
    "try:\n",
    "    cur.execute(\"alter table music_library add column album_id int\")\n",
    "    cur.execute(\"alter table music_library add column songs text []\")\n",
    "\n",
    "except psycopg2.Error as e:\n",
    "    print(\"Error creating table\")\n",
    "    print(e)"
   ]
  },
  {
   "cell_type": "code",
   "execution_count": 24,
   "metadata": {},
   "outputs": [],
   "source": [
    "try:\n",
    "    cur.execute(\"Insert into music_library (album_id, album_name, artist_name, year, songs) \\\n",
    "    values (%s, %s, %s, %s, %s)\", \\\n",
    "               (1, \"Rubber Soul\", \"The Beatles\", 1965, [\"Michelle\", \"Think for yourself\" ,\"In my life\"]))\n",
    "\n",
    "except psycopg2.Error as e:\n",
    "    print(\"Error inserting rows\")\n",
    "    print(e) "
   ]
  },
  {
   "cell_type": "code",
   "execution_count": 25,
   "metadata": {},
   "outputs": [],
   "source": [
    "try:\n",
    "    cur.execute(\"Insert into music_library (album_id, album_name, artist_name, year, songs) \\\n",
    "    values (%s, %s, %s, %s, %s)\", \\\n",
    "               (2, \"Let it be\", \"The Beatles\", 1970, [\"Let it be\", \"Across the Universe\"]))\n",
    "\n",
    "except psycopg2.Error as e:\n",
    "    print(\"Error inserting rows\")\n",
    "    print(e) "
   ]
  },
  {
   "cell_type": "code",
   "execution_count": 26,
   "metadata": {},
   "outputs": [],
   "source": [
    "try:\n",
    "    cur.execute(\"Select * from music_library\")\n",
    "except psycopg2.error as e:\n",
    "    print(\"Error: select * \")\n",
    "    print(e)"
   ]
  },
  {
   "cell_type": "code",
   "execution_count": 27,
   "metadata": {},
   "outputs": [
    {
     "name": "stdout",
     "output_type": "stream",
     "text": [
      "('Rubber Soul', 'The Beatles', 1965, 1, ['Michelle', 'Think for yourself', 'In my life'])\n",
      "('Let it be', 'The Beatles', 1970, 2, ['Let it be', 'Across the Universe'])\n"
     ]
    }
   ],
   "source": [
    "row = cur.fetchone()\n",
    "while row:\n",
    "    print(row)\n",
    "    row=cur.fetchone()\n"
   ]
  },
  {
   "cell_type": "code",
   "execution_count": 31,
   "metadata": {},
   "outputs": [],
   "source": [
    "try:\n",
    "    cur.execute(\"create table if not exists music_library2 (album_id int, \\\n",
    "    album_name varchar, artist_name varchar, \\\n",
    "    year int, song_name varchar);\")\n",
    "    \n",
    "except psycopg2.Error as e:\n",
    "    print(\"Error creating table\")\n",
    "    print(e)\n",
    "\n",
    "try:\n",
    "    cur.execute(\"Insert into music_library2 (album_id, album_name, artist_name, year, song_name) \\\n",
    "    values (%s, %s, %s, %s, %s)\", \\\n",
    "               (1, \"Rubber Soul\", \"The Beatles\", 1965, \"Michelle\"))\n",
    "\n",
    "except psycopg2.Error as e:\n",
    "    print(\"Error inserting rows\")\n",
    "    print(e) \n",
    "\n",
    "try:\n",
    "    cur.execute(\"Insert into music_library2 (album_id, album_name, artist_name, year, song_name) \\\n",
    "    values (%s, %s, %s, %s, %s)\", \\\n",
    "               (1, \"Rubber Soul\", \"The Beatles\", 1965, \"Think for yourself\"))\n",
    "\n",
    "except psycopg2.Error as e:\n",
    "    print(\"Error inserting rows\")\n",
    "    print(e) \n",
    "\n",
    "try:\n",
    "    cur.execute(\"Insert into music_library2 (album_id, album_name, artist_name, year, song_name) \\\n",
    "    values (%s, %s, %s, %s, %s)\", \\\n",
    "               (1, \"Rubber Soul\", \"The Beatles\", 1965, \"In my life\"))\n",
    "\n",
    "except psycopg2.Error as e:\n",
    "    print(\"Error inserting rows\")\n",
    "    print(e) \n",
    "\n",
    "try:\n",
    "    cur.execute(\"Insert into music_library2 (album_id, album_name, artist_name, year, song_name) \\\n",
    "    values (%s, %s, %s, %s, %s)\", \\\n",
    "               (2, \"Let it be\", \"The Beatles\", 1970, \"Let it be\"))\n",
    "\n",
    "except psycopg2.Error as e:\n",
    "    print(\"Error inserting rows\")\n",
    "    print(e) \n",
    "\n",
    "try:\n",
    "    cur.execute(\"Insert into music_library2 (album_id, album_name, artist_name, year, song_name) \\\n",
    "    values (%s, %s, %s, %s, %s)\", \\\n",
    "               (2, \"Let it be\", \"The Beatles\", 1970, \"Across the Universe\"))\n",
    "\n",
    "except psycopg2.Error as e:\n",
    "    print(\"Error inserting rows\")\n",
    "    print(e) "
   ]
  },
  {
   "cell_type": "code",
   "execution_count": 34,
   "metadata": {},
   "outputs": [],
   "source": [
    "try:\n",
    "    cur.execute(\"create table if not exists album_library (album_id int, \\\n",
    "    album_name varchar, artist_name varchar, \\\n",
    "    year int);\")\n",
    "    \n",
    "except psycopg2.Error as e:\n",
    "    print(\"Error creating table\")\n",
    "    print(e)\n",
    "\n",
    "try:\n",
    "    cur.execute(\"create table if not exists song_library (song_id int, album_id int, \\\n",
    "    song_name varchar);\")\n",
    "    \n",
    "except psycopg2.Error as e:\n",
    "    print(\"Error creating table\")\n",
    "    print(e)\n",
    "    \n",
    "try:\n",
    "    cur.execute(\"Insert into album_library (album_id, album_name, artist_name, year) \\\n",
    "    values (%s, %s, %s, %s)\", \\\n",
    "               (1, \"Rubber Soul\", \"The Beatles\", 1965))\n",
    "\n",
    "except psycopg2.Error as e:\n",
    "    print(\"Error inserting rows\")\n",
    "    print(e) \n",
    "\n",
    "try:\n",
    "    cur.execute(\"Insert into album_library (album_id, album_name, artist_name, year) \\\n",
    "    values (%s, %s, %s, %s)\", \\\n",
    "               (2, \"Let it be\", \"The Beatles\", 1970))\n",
    "\n",
    "except psycopg2.Error as e:\n",
    "    print(\"Error inserting rows\")\n",
    "    print(e)\n",
    "    \n",
    "try:\n",
    "    cur.execute(\"Insert into song_library (song_id, album_id, song_name) \\\n",
    "    values (%s, %s, %s)\", \\\n",
    "               (1, 1, \"Michelle\"))\n",
    "\n",
    "except psycopg2.Error as e:\n",
    "    print(\"Error inserting rows\")\n",
    "    print(e) \n",
    "\n",
    "try:\n",
    "    cur.execute(\"Insert into song_library (song_id, album_id, song_name) \\\n",
    "    values (%s, %s, %s)\", \\\n",
    "               (2, 1, \"Think for yourself\"))\n",
    "\n",
    "except psycopg2.Error as e:\n",
    "    print(\"Error inserting rows\")\n",
    "    print(e)\n",
    "\n",
    "try:\n",
    "    cur.execute(\"Insert into song_library (song_id, album_id, song_name) \\\n",
    "    values (%s, %s, %s)\", \\\n",
    "               (3, 1, \"In My Life\"))\n",
    "\n",
    "except psycopg2.Error as e:\n",
    "    print(\"Error inserting rows\")\n",
    "    print(e)\n",
    "\n",
    "try:\n",
    "    cur.execute(\"Insert into song_library (song_id, album_id, song_name) \\\n",
    "    values (%s, %s, %s)\", \\\n",
    "               (4, 2, \"Let it be\"))\n",
    "\n",
    "except psycopg2.Error as e:\n",
    "    print(\"Error inserting rows\")\n",
    "    print(e)\n",
    "    \n",
    "try:\n",
    "    cur.execute(\"Insert into song_library (song_id, album_id, song_name) \\\n",
    "    values (%s, %s, %s)\", \\\n",
    "               (5, 2, \"Across the Universe\"))\n",
    "\n",
    "except psycopg2.Error as e:\n",
    "    print(\"Error inserting rows\")\n",
    "    print(e)"
   ]
  },
  {
   "cell_type": "code",
   "execution_count": 35,
   "metadata": {},
   "outputs": [
    {
     "name": "stdout",
     "output_type": "stream",
     "text": [
      "(1, 'Rubber Soul', 'The Beatles', 1965, 1, 1, 'Michelle')\n",
      "(1, 'Rubber Soul', 'The Beatles', 1965, 2, 1, 'Think for yourself')\n",
      "(1, 'Rubber Soul', 'The Beatles', 1965, 3, 1, 'In My Life')\n",
      "(2, 'Let it be', 'The Beatles', 1970, 4, 2, 'Let it be')\n",
      "(2, 'Let it be', 'The Beatles', 1970, 5, 2, 'Across the Universe')\n"
     ]
    }
   ],
   "source": [
    "try:\n",
    "    cur.execute(\"select * from album_library JOIN \\\n",
    "    song_library on album_library.album_id = song_library.album_id; \")\n",
    "except psycopg2.error as e:\n",
    "    print(\"Error: Select *\")\n",
    "    print(e)\n",
    "\n",
    "row=cur.fetchone()\n",
    "while row:\n",
    "    print(row)\n",
    "    row=cur.fetchone()"
   ]
  },
  {
   "cell_type": "code",
   "execution_count": 39,
   "metadata": {},
   "outputs": [],
   "source": [
    "try:\n",
    "    cur.execute(\"create table if not exists album_library2 (album_id int, \\\n",
    "    album_name varchar, artist_id int, \\\n",
    "    year int);\")\n",
    "    \n",
    "except psycopg2.Error as e:\n",
    "    print(\"Error creating table\")\n",
    "    print(e)\n",
    "\n",
    "try:\n",
    "    cur.execute(\"create table if not exists artist_library (artist_id int, \\\n",
    "    artist_name varchar);\")\n",
    "    \n",
    "except psycopg2.Error as e:\n",
    "    print(\"Error issue creating table\")\n",
    "    print(e)\n",
    "    \n",
    "try:\n",
    "    cur.execute(\"Insert into album_library2 (album_id, album_name, artist_id, year) \\\n",
    "    values (%s, %s, %s, %s)\", \\\n",
    "               (1, \"Rubber Soul\", 1 , 1965))\n",
    "\n",
    "except psycopg2.Error as e:\n",
    "    print(\"Error inserting rows\")\n",
    "    print(e) \n",
    "\n",
    "try:\n",
    "    cur.execute(\"Insert into album_library2 (album_id, album_name, artist_id, year) \\\n",
    "    values (%s, %s, %s, %s)\", \\\n",
    "               (2, \"Let it be\", 2 , 1970))\n",
    "\n",
    "except psycopg2.Error as e:\n",
    "    print(\"Error inserting rows\")\n",
    "    print(e)\n",
    "    \n",
    "try:\n",
    "    cur.execute(\"Insert into artist_library (artist_id, artist_name) \\\n",
    "    values (%s, %s)\", \\\n",
    "               (1, \"The Beatles\"))\n",
    "\n",
    "except psycopg2.Error as e:\n",
    "    print(\"Error inserting rows\")\n",
    "    print(e)\n"
   ]
  },
  {
   "cell_type": "code",
   "execution_count": 45,
   "metadata": {},
   "outputs": [
    {
     "name": "stdout",
     "output_type": "stream",
     "text": [
      "(1, 'The Beatles', 1, 'Rubber Soul', 1, 1965, 1, 1, 'Michelle')\n",
      "(1, 'The Beatles', 1, 'Rubber Soul', 1, 1965, 2, 1, 'Think for yourself')\n",
      "(1, 'The Beatles', 1, 'Rubber Soul', 1, 1965, 3, 1, 'In My Life')\n",
      "(2, 'The Beatles', 2, 'Let it be', 2, 1970, 4, 2, 'Let it be')\n",
      "(2, 'The Beatles', 2, 'Let it be', 2, 1970, 5, 2, 'Across the Universe')\n"
     ]
    }
   ],
   "source": [
    "try:\n",
    "    cur.execute(\"select * from (artist_library JOIN album_library2 on \\\n",
    "    artist_library.artist_id = album_library2.artist_id) JOIN \\\n",
    "                song_library on album_library2.album_id=song_library.album_id; \")\n",
    "except psycopg2.error as e:\n",
    "    print(\"Error: Select *\")\n",
    "    print(e)\n",
    "\n",
    "row=cur.fetchone()\n",
    "while row:\n",
    "    print(row)\n",
    "    row=cur.fetchone()"
   ]
  },
  {
   "cell_type": "code",
   "execution_count": 44,
   "metadata": {},
   "outputs": [],
   "source": [
    "try:\n",
    "    cur.execute(\"Insert into artist_library (artist_id, artist_name) \\\n",
    "    values (%s, %s)\", \\\n",
    "               (2, \"The Beatles\"))\n",
    "\n",
    "except psycopg2.Error as e:\n",
    "    print(\"Error inserting rows\")\n",
    "    print(e)"
   ]
  },
  {
   "cell_type": "code",
   "execution_count": null,
   "metadata": {},
   "outputs": [],
   "source": []
  }
 ],
 "metadata": {
  "kernelspec": {
   "display_name": "Python 3",
   "language": "python",
   "name": "python3"
  },
  "language_info": {
   "codemirror_mode": {
    "name": "ipython",
    "version": 3
   },
   "file_extension": ".py",
   "mimetype": "text/x-python",
   "name": "python",
   "nbconvert_exporter": "python",
   "pygments_lexer": "ipython3",
   "version": "3.7.1"
  }
 },
 "nbformat": 4,
 "nbformat_minor": 2
}
